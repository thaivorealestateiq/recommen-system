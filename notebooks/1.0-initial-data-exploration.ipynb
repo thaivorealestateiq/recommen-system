{
  "cells": [
    {
      "cell_type": "markdown",
      "metadata": {
        "id": "kQjNykjb-9BK"
      },
      "source": [
        "# Data downloading"
      ]
    },
    {
      "cell_type": "code",
      "execution_count": 1,
      "metadata": {
        "id": "faYcpj4v-KIr"
      },
      "outputs": [],
      "source": [
        "import zipfile\n",
        "from torch.utils.data import Dataset\n",
        "import torch\n",
        "import os\n",
        "import pandas  as pd\n",
        "import numpy as np\n",
        "from zipfile import ZipFile\n",
        "import requests\n",
        "import sklearn\n",
        "import random\n",
        "\n",
        "class Download():\n",
        "    def __init__(self,\n",
        "                 root: str,\n",
        "                 file_size: str = '100k',\n",
        "                 download: bool = True,\n",
        "                 ) -> None:\n",
        "        self.root = root\n",
        "        self.download = download\n",
        "        self.file_size_url = file_size\n",
        "\n",
        "        if self.file_size_url == '100k':\n",
        "            self.file_url = 'ml-latest' if self.file_size_url == '20m' else 'ml-latest-small'\n",
        "            self.fname = os.path.join(self.root, self.file_url, 'ratings.csv')\n",
        "\n",
        "        if self.download or not os.path.isfile(self.fname):\n",
        "            self._download_movielens()\n",
        "        self.df = self._read_ratings_csv()\n",
        "\n",
        "    def _download_movielens(self) -> None:\n",
        "        '''\n",
        "        Download dataset from url, if there is no root dir, then mkdir root dir.\n",
        "        After downloading, it wil be extracted\n",
        "        :return: None\n",
        "        '''\n",
        "        file = self.file_url + '.zip'\n",
        "        url = (\"http://files.grouplens.org/datasets/movielens/\" + file)\n",
        "        req = requests.get(url, stream=True)\n",
        "        print('Downloading MovieLens dataset')\n",
        "        if not os.path.exists(self.root):\n",
        "            os.makedirs(self.root)\n",
        "        with open(os.path.join(self.root, file), mode='wb') as fd:\n",
        "            for chunk in req.iter_content(chunk_size=None):\n",
        "                fd.write(chunk)\n",
        "        with ZipFile(os.path.join(self.root, file), \"r\") as zip:\n",
        "            # Extract files\n",
        "            print(\"Extracting all the files now...\")\n",
        "            zip.extractall(path=self.root)\n",
        "            print(\"Downloading Complete!\")\n",
        "\n",
        "    def _read_ratings_csv(self) -> pd.DataFrame:\n",
        "        '''\n",
        "        at first, check if file exists. if it doesn't then call _download().\n",
        "        it will read ratings.csv, and transform to dataframe.\n",
        "        it will drop columns=['timestamp'].\n",
        "        :return:\n",
        "        '''\n",
        "        print(\"Reading file\")\n",
        "        if not os.path.isfile(self.fname):\n",
        "            self._download_movielens()\n",
        "\n",
        "        if self.file_size_url == '100k':\n",
        "            df = pd.read_csv(self.fname, sep=',')\n",
        "        else:\n",
        "            df = pd.read_csv(self.fname, sep=\"::\", header=None,\n",
        "                               names=['userId', 'movieId', 'ratings', 'timestamp'])\n",
        "        df = df.drop(columns=['timestamp'])\n",
        "        print(\"Reading Complete!\")\n",
        "        return df\n",
        "\n",
        "    def split_train_test(self) -> (pd.DataFrame, pd.DataFrame, pd.DataFrame):\n",
        "        '''\n",
        "        pick each unique userid row, and add to the testset, delete from trainset.\n",
        "        :return: (pd.DataFrame,pd.DataFrame,pd.DataFrame)\n",
        "        '''\n",
        "        train_dataframe = self.df\n",
        "        test_dataframe = self.df.sample(frac=1).drop_duplicates(['userId'])\n",
        "        tmp_dataframe = pd.concat([train_dataframe, test_dataframe])\n",
        "        train_dataframe = tmp_dataframe.drop_duplicates(keep=False)\n",
        "\n",
        "        # explicit feedback -> implicit feedback\n",
        "        # ignore warnings\n",
        "        np.warnings.filterwarnings('ignore')\n",
        "        train_dataframe.loc[:, 'rating'] = 1\n",
        "        test_dataframe.loc[:, 'rating'] = 1\n",
        "\n",
        "        print(f\"len(total): {len(self.df)}, len(train): {len(train_dataframe)}, len(test): {len(test_dataframe)}\")\n",
        "        return self.df, train_dataframe, test_dataframe,"
      ]
    },
    {
      "cell_type": "code",
      "execution_count": 2,
      "metadata": {
        "colab": {
          "base_uri": "https://localhost:8080/"
        },
        "id": "jg4u__CVpsOt",
        "outputId": "cde5c631-40e4-407b-ca5e-38e9b286552c"
      },
      "outputs": [
        {
          "name": "stdout",
          "output_type": "stream",
          "text": [
            "Downloading MovieLens dataset\n",
            "Extracting all the files now...\n",
            "Downloading Complete!\n",
            "Reading file\n",
            "Reading Complete!\n",
            "len(total): 100836, len(train): 100226, len(test): 610\n"
          ]
        }
      ],
      "source": [
        "# root path for dataset\n",
        "import warnings\n",
        "np.warnings = warnings\n",
        "root_path='./content/'\n",
        "\n",
        "# load dataframe\n",
        "dataset = Download(root=root_path)\n",
        "total_dataframe, train_dataframe, test_dataframe = dataset.split_train_test()\n"
      ]
    },
    {
      "cell_type": "markdown",
      "metadata": {
        "id": "DrxT88Sgq4Ox"
      },
      "source": [
        "# Zipping the raw data"
      ]
    },
    {
      "cell_type": "code",
      "execution_count": 3,
      "metadata": {
        "colab": {
          "base_uri": "https://localhost:8080/"
        },
        "id": "1mSpHPzpqhAi",
        "outputId": "c5cc4aba-0de6-46eb-df6d-c99f3dc04c42"
      },
      "outputs": [
        {
          "name": "stdout",
          "output_type": "stream",
          "text": [
            "\tzip warning: name not matched: ml-latest-small\n",
            "\n",
            "zip error: Nothing to do! (try: zip -r data100k.zip . -i ml-latest-small)\n"
          ]
        }
      ],
      "source": [
        "!zip -r data100k.zip ml-latest-small"
      ]
    },
    {
      "cell_type": "markdown",
      "metadata": {
        "id": "thbxkxy1-_OE"
      },
      "source": [
        "# Data exploration"
      ]
    },
    {
      "cell_type": "code",
      "execution_count": 4,
      "metadata": {
        "colab": {
          "base_uri": "https://localhost:8080/",
          "height": 424
        },
        "id": "nghbkvflq-Ns",
        "outputId": "33115cd5-94d7-47ab-e7e5-621d36ee10cb"
      },
      "outputs": [
        {
          "data": {
            "text/html": [
              "<div>\n",
              "<style scoped>\n",
              "    .dataframe tbody tr th:only-of-type {\n",
              "        vertical-align: middle;\n",
              "    }\n",
              "\n",
              "    .dataframe tbody tr th {\n",
              "        vertical-align: top;\n",
              "    }\n",
              "\n",
              "    .dataframe thead th {\n",
              "        text-align: right;\n",
              "    }\n",
              "</style>\n",
              "<table border=\"1\" class=\"dataframe\">\n",
              "  <thead>\n",
              "    <tr style=\"text-align: right;\">\n",
              "      <th></th>\n",
              "      <th>userId</th>\n",
              "      <th>movieId</th>\n",
              "      <th>rating</th>\n",
              "    </tr>\n",
              "  </thead>\n",
              "  <tbody>\n",
              "    <tr>\n",
              "      <th>0</th>\n",
              "      <td>1</td>\n",
              "      <td>1</td>\n",
              "      <td>1.0</td>\n",
              "    </tr>\n",
              "    <tr>\n",
              "      <th>1</th>\n",
              "      <td>1</td>\n",
              "      <td>3</td>\n",
              "      <td>1.0</td>\n",
              "    </tr>\n",
              "    <tr>\n",
              "      <th>2</th>\n",
              "      <td>1</td>\n",
              "      <td>6</td>\n",
              "      <td>1.0</td>\n",
              "    </tr>\n",
              "    <tr>\n",
              "      <th>3</th>\n",
              "      <td>1</td>\n",
              "      <td>47</td>\n",
              "      <td>1.0</td>\n",
              "    </tr>\n",
              "    <tr>\n",
              "      <th>4</th>\n",
              "      <td>1</td>\n",
              "      <td>50</td>\n",
              "      <td>1.0</td>\n",
              "    </tr>\n",
              "    <tr>\n",
              "      <th>...</th>\n",
              "      <td>...</td>\n",
              "      <td>...</td>\n",
              "      <td>...</td>\n",
              "    </tr>\n",
              "    <tr>\n",
              "      <th>100831</th>\n",
              "      <td>610</td>\n",
              "      <td>166534</td>\n",
              "      <td>1.0</td>\n",
              "    </tr>\n",
              "    <tr>\n",
              "      <th>100832</th>\n",
              "      <td>610</td>\n",
              "      <td>168248</td>\n",
              "      <td>1.0</td>\n",
              "    </tr>\n",
              "    <tr>\n",
              "      <th>100833</th>\n",
              "      <td>610</td>\n",
              "      <td>168250</td>\n",
              "      <td>1.0</td>\n",
              "    </tr>\n",
              "    <tr>\n",
              "      <th>100834</th>\n",
              "      <td>610</td>\n",
              "      <td>168252</td>\n",
              "      <td>1.0</td>\n",
              "    </tr>\n",
              "    <tr>\n",
              "      <th>100835</th>\n",
              "      <td>610</td>\n",
              "      <td>170875</td>\n",
              "      <td>1.0</td>\n",
              "    </tr>\n",
              "  </tbody>\n",
              "</table>\n",
              "<p>100226 rows × 3 columns</p>\n",
              "</div>"
            ],
            "text/plain": [
              "        userId  movieId  rating\n",
              "0            1        1     1.0\n",
              "1            1        3     1.0\n",
              "2            1        6     1.0\n",
              "3            1       47     1.0\n",
              "4            1       50     1.0\n",
              "...        ...      ...     ...\n",
              "100831     610   166534     1.0\n",
              "100832     610   168248     1.0\n",
              "100833     610   168250     1.0\n",
              "100834     610   168252     1.0\n",
              "100835     610   170875     1.0\n",
              "\n",
              "[100226 rows x 3 columns]"
            ]
          },
          "execution_count": 4,
          "metadata": {},
          "output_type": "execute_result"
        }
      ],
      "source": [
        "train_dataframe"
      ]
    },
    {
      "cell_type": "code",
      "execution_count": 5,
      "metadata": {
        "colab": {
          "base_uri": "https://localhost:8080/",
          "height": 424
        },
        "id": "tNsP2OE3rCXx",
        "outputId": "f3c7f723-1eff-4f38-eeb4-58a582b6f3a5"
      },
      "outputs": [
        {
          "data": {
            "text/html": [
              "<div>\n",
              "<style scoped>\n",
              "    .dataframe tbody tr th:only-of-type {\n",
              "        vertical-align: middle;\n",
              "    }\n",
              "\n",
              "    .dataframe tbody tr th {\n",
              "        vertical-align: top;\n",
              "    }\n",
              "\n",
              "    .dataframe thead th {\n",
              "        text-align: right;\n",
              "    }\n",
              "</style>\n",
              "<table border=\"1\" class=\"dataframe\">\n",
              "  <thead>\n",
              "    <tr style=\"text-align: right;\">\n",
              "      <th></th>\n",
              "      <th>userId</th>\n",
              "      <th>movieId</th>\n",
              "      <th>rating</th>\n",
              "    </tr>\n",
              "  </thead>\n",
              "  <tbody>\n",
              "    <tr>\n",
              "      <th>84754</th>\n",
              "      <td>548</td>\n",
              "      <td>74532</td>\n",
              "      <td>1.0</td>\n",
              "    </tr>\n",
              "    <tr>\n",
              "      <th>14194</th>\n",
              "      <td>91</td>\n",
              "      <td>384</td>\n",
              "      <td>1.0</td>\n",
              "    </tr>\n",
              "    <tr>\n",
              "      <th>515</th>\n",
              "      <td>4</td>\n",
              "      <td>4967</td>\n",
              "      <td>1.0</td>\n",
              "    </tr>\n",
              "    <tr>\n",
              "      <th>72319</th>\n",
              "      <td>466</td>\n",
              "      <td>6281</td>\n",
              "      <td>1.0</td>\n",
              "    </tr>\n",
              "    <tr>\n",
              "      <th>7537</th>\n",
              "      <td>51</td>\n",
              "      <td>1834</td>\n",
              "      <td>1.0</td>\n",
              "    </tr>\n",
              "    <tr>\n",
              "      <th>...</th>\n",
              "      <td>...</td>\n",
              "      <td>...</td>\n",
              "      <td>...</td>\n",
              "    </tr>\n",
              "    <tr>\n",
              "      <th>33657</th>\n",
              "      <td>228</td>\n",
              "      <td>1373</td>\n",
              "      <td>1.0</td>\n",
              "    </tr>\n",
              "    <tr>\n",
              "      <th>91736</th>\n",
              "      <td>595</td>\n",
              "      <td>1278</td>\n",
              "      <td>1.0</td>\n",
              "    </tr>\n",
              "    <tr>\n",
              "      <th>61556</th>\n",
              "      <td>407</td>\n",
              "      <td>1196</td>\n",
              "      <td>1.0</td>\n",
              "    </tr>\n",
              "    <tr>\n",
              "      <th>83478</th>\n",
              "      <td>531</td>\n",
              "      <td>2640</td>\n",
              "      <td>1.0</td>\n",
              "    </tr>\n",
              "    <tr>\n",
              "      <th>71434</th>\n",
              "      <td>459</td>\n",
              "      <td>177765</td>\n",
              "      <td>1.0</td>\n",
              "    </tr>\n",
              "  </tbody>\n",
              "</table>\n",
              "<p>610 rows × 3 columns</p>\n",
              "</div>"
            ],
            "text/plain": [
              "       userId  movieId  rating\n",
              "84754     548    74532     1.0\n",
              "14194      91      384     1.0\n",
              "515         4     4967     1.0\n",
              "72319     466     6281     1.0\n",
              "7537       51     1834     1.0\n",
              "...       ...      ...     ...\n",
              "33657     228     1373     1.0\n",
              "91736     595     1278     1.0\n",
              "61556     407     1196     1.0\n",
              "83478     531     2640     1.0\n",
              "71434     459   177765     1.0\n",
              "\n",
              "[610 rows x 3 columns]"
            ]
          },
          "execution_count": 5,
          "metadata": {},
          "output_type": "execute_result"
        }
      ],
      "source": [
        "test_dataframe"
      ]
    },
    {
      "cell_type": "markdown",
      "metadata": {
        "id": "ZBvI3ktErP1n"
      },
      "source": [
        "## Merging dataset of the movie titles with ids data"
      ]
    },
    {
      "cell_type": "code",
      "execution_count": 6,
      "metadata": {
        "colab": {
          "base_uri": "https://localhost:8080/",
          "height": 424
        },
        "id": "5Dwc62WcrQq9",
        "outputId": "f3ff03d9-84d6-4377-81d4-a2f774ed4494"
      },
      "outputs": [
        {
          "data": {
            "text/html": [
              "<div>\n",
              "<style scoped>\n",
              "    .dataframe tbody tr th:only-of-type {\n",
              "        vertical-align: middle;\n",
              "    }\n",
              "\n",
              "    .dataframe tbody tr th {\n",
              "        vertical-align: top;\n",
              "    }\n",
              "\n",
              "    .dataframe thead th {\n",
              "        text-align: right;\n",
              "    }\n",
              "</style>\n",
              "<table border=\"1\" class=\"dataframe\">\n",
              "  <thead>\n",
              "    <tr style=\"text-align: right;\">\n",
              "      <th></th>\n",
              "      <th>movieId</th>\n",
              "      <th>title</th>\n",
              "      <th>genres</th>\n",
              "    </tr>\n",
              "  </thead>\n",
              "  <tbody>\n",
              "    <tr>\n",
              "      <th>0</th>\n",
              "      <td>1</td>\n",
              "      <td>Toy Story (1995)</td>\n",
              "      <td>Adventure|Animation|Children|Comedy|Fantasy</td>\n",
              "    </tr>\n",
              "    <tr>\n",
              "      <th>1</th>\n",
              "      <td>2</td>\n",
              "      <td>Jumanji (1995)</td>\n",
              "      <td>Adventure|Children|Fantasy</td>\n",
              "    </tr>\n",
              "    <tr>\n",
              "      <th>2</th>\n",
              "      <td>3</td>\n",
              "      <td>Grumpier Old Men (1995)</td>\n",
              "      <td>Comedy|Romance</td>\n",
              "    </tr>\n",
              "    <tr>\n",
              "      <th>3</th>\n",
              "      <td>4</td>\n",
              "      <td>Waiting to Exhale (1995)</td>\n",
              "      <td>Comedy|Drama|Romance</td>\n",
              "    </tr>\n",
              "    <tr>\n",
              "      <th>4</th>\n",
              "      <td>5</td>\n",
              "      <td>Father of the Bride Part II (1995)</td>\n",
              "      <td>Comedy</td>\n",
              "    </tr>\n",
              "    <tr>\n",
              "      <th>...</th>\n",
              "      <td>...</td>\n",
              "      <td>...</td>\n",
              "      <td>...</td>\n",
              "    </tr>\n",
              "    <tr>\n",
              "      <th>9737</th>\n",
              "      <td>193581</td>\n",
              "      <td>Black Butler: Book of the Atlantic (2017)</td>\n",
              "      <td>Action|Animation|Comedy|Fantasy</td>\n",
              "    </tr>\n",
              "    <tr>\n",
              "      <th>9738</th>\n",
              "      <td>193583</td>\n",
              "      <td>No Game No Life: Zero (2017)</td>\n",
              "      <td>Animation|Comedy|Fantasy</td>\n",
              "    </tr>\n",
              "    <tr>\n",
              "      <th>9739</th>\n",
              "      <td>193585</td>\n",
              "      <td>Flint (2017)</td>\n",
              "      <td>Drama</td>\n",
              "    </tr>\n",
              "    <tr>\n",
              "      <th>9740</th>\n",
              "      <td>193587</td>\n",
              "      <td>Bungo Stray Dogs: Dead Apple (2018)</td>\n",
              "      <td>Action|Animation</td>\n",
              "    </tr>\n",
              "    <tr>\n",
              "      <th>9741</th>\n",
              "      <td>193609</td>\n",
              "      <td>Andrew Dice Clay: Dice Rules (1991)</td>\n",
              "      <td>Comedy</td>\n",
              "    </tr>\n",
              "  </tbody>\n",
              "</table>\n",
              "<p>9742 rows × 3 columns</p>\n",
              "</div>"
            ],
            "text/plain": [
              "      movieId                                      title  \\\n",
              "0           1                           Toy Story (1995)   \n",
              "1           2                             Jumanji (1995)   \n",
              "2           3                    Grumpier Old Men (1995)   \n",
              "3           4                   Waiting to Exhale (1995)   \n",
              "4           5         Father of the Bride Part II (1995)   \n",
              "...       ...                                        ...   \n",
              "9737   193581  Black Butler: Book of the Atlantic (2017)   \n",
              "9738   193583               No Game No Life: Zero (2017)   \n",
              "9739   193585                               Flint (2017)   \n",
              "9740   193587        Bungo Stray Dogs: Dead Apple (2018)   \n",
              "9741   193609        Andrew Dice Clay: Dice Rules (1991)   \n",
              "\n",
              "                                           genres  \n",
              "0     Adventure|Animation|Children|Comedy|Fantasy  \n",
              "1                      Adventure|Children|Fantasy  \n",
              "2                                  Comedy|Romance  \n",
              "3                            Comedy|Drama|Romance  \n",
              "4                                          Comedy  \n",
              "...                                           ...  \n",
              "9737              Action|Animation|Comedy|Fantasy  \n",
              "9738                     Animation|Comedy|Fantasy  \n",
              "9739                                        Drama  \n",
              "9740                             Action|Animation  \n",
              "9741                                       Comedy  \n",
              "\n",
              "[9742 rows x 3 columns]"
            ]
          },
          "execution_count": 6,
          "metadata": {},
          "output_type": "execute_result"
        }
      ],
      "source": [
        "import pandas as pd\n",
        "movies = pd.read_csv(\"./content/ml-latest-small/movies.csv\")\n",
        "movies"
      ]
    },
    {
      "cell_type": "code",
      "execution_count": 7,
      "metadata": {
        "colab": {
          "base_uri": "https://localhost:8080/",
          "height": 424
        },
        "id": "UCWRXegurms7",
        "outputId": "49e4d5c1-774d-47ef-8b37-903f48c3518b"
      },
      "outputs": [
        {
          "data": {
            "text/html": [
              "<div>\n",
              "<style scoped>\n",
              "    .dataframe tbody tr th:only-of-type {\n",
              "        vertical-align: middle;\n",
              "    }\n",
              "\n",
              "    .dataframe tbody tr th {\n",
              "        vertical-align: top;\n",
              "    }\n",
              "\n",
              "    .dataframe thead th {\n",
              "        text-align: right;\n",
              "    }\n",
              "</style>\n",
              "<table border=\"1\" class=\"dataframe\">\n",
              "  <thead>\n",
              "    <tr style=\"text-align: right;\">\n",
              "      <th></th>\n",
              "      <th>userId</th>\n",
              "      <th>movieId</th>\n",
              "      <th>rating</th>\n",
              "      <th>title</th>\n",
              "      <th>genres</th>\n",
              "    </tr>\n",
              "  </thead>\n",
              "  <tbody>\n",
              "    <tr>\n",
              "      <th>0</th>\n",
              "      <td>548</td>\n",
              "      <td>74532</td>\n",
              "      <td>1.0</td>\n",
              "      <td>Cop Out (2010)</td>\n",
              "      <td>Action|Comedy|Crime</td>\n",
              "    </tr>\n",
              "    <tr>\n",
              "      <th>1</th>\n",
              "      <td>91</td>\n",
              "      <td>384</td>\n",
              "      <td>1.0</td>\n",
              "      <td>Bad Company (1995)</td>\n",
              "      <td>Action|Crime|Drama</td>\n",
              "    </tr>\n",
              "    <tr>\n",
              "      <th>2</th>\n",
              "      <td>4</td>\n",
              "      <td>4967</td>\n",
              "      <td>1.0</td>\n",
              "      <td>No Man's Land (2001)</td>\n",
              "      <td>Drama|War</td>\n",
              "    </tr>\n",
              "    <tr>\n",
              "      <th>3</th>\n",
              "      <td>466</td>\n",
              "      <td>6281</td>\n",
              "      <td>1.0</td>\n",
              "      <td>Phone Booth (2002)</td>\n",
              "      <td>Drama|Thriller</td>\n",
              "    </tr>\n",
              "    <tr>\n",
              "      <th>4</th>\n",
              "      <td>51</td>\n",
              "      <td>1834</td>\n",
              "      <td>1.0</td>\n",
              "      <td>Spanish Prisoner, The (1997)</td>\n",
              "      <td>Crime|Drama|Mystery|Thriller</td>\n",
              "    </tr>\n",
              "    <tr>\n",
              "      <th>...</th>\n",
              "      <td>...</td>\n",
              "      <td>...</td>\n",
              "      <td>...</td>\n",
              "      <td>...</td>\n",
              "      <td>...</td>\n",
              "    </tr>\n",
              "    <tr>\n",
              "      <th>605</th>\n",
              "      <td>228</td>\n",
              "      <td>1373</td>\n",
              "      <td>1.0</td>\n",
              "      <td>Star Trek V: The Final Frontier (1989)</td>\n",
              "      <td>Action|Sci-Fi</td>\n",
              "    </tr>\n",
              "    <tr>\n",
              "      <th>606</th>\n",
              "      <td>595</td>\n",
              "      <td>1278</td>\n",
              "      <td>1.0</td>\n",
              "      <td>Young Frankenstein (1974)</td>\n",
              "      <td>Comedy|Fantasy</td>\n",
              "    </tr>\n",
              "    <tr>\n",
              "      <th>607</th>\n",
              "      <td>407</td>\n",
              "      <td>1196</td>\n",
              "      <td>1.0</td>\n",
              "      <td>Star Wars: Episode V - The Empire Strikes Back...</td>\n",
              "      <td>Action|Adventure|Sci-Fi</td>\n",
              "    </tr>\n",
              "    <tr>\n",
              "      <th>608</th>\n",
              "      <td>531</td>\n",
              "      <td>2640</td>\n",
              "      <td>1.0</td>\n",
              "      <td>Superman (1978)</td>\n",
              "      <td>Action|Adventure|Sci-Fi</td>\n",
              "    </tr>\n",
              "    <tr>\n",
              "      <th>609</th>\n",
              "      <td>459</td>\n",
              "      <td>177765</td>\n",
              "      <td>1.0</td>\n",
              "      <td>Coco (2017)</td>\n",
              "      <td>Adventure|Animation|Children</td>\n",
              "    </tr>\n",
              "  </tbody>\n",
              "</table>\n",
              "<p>610 rows × 5 columns</p>\n",
              "</div>"
            ],
            "text/plain": [
              "     userId  movieId  rating  \\\n",
              "0       548    74532     1.0   \n",
              "1        91      384     1.0   \n",
              "2         4     4967     1.0   \n",
              "3       466     6281     1.0   \n",
              "4        51     1834     1.0   \n",
              "..      ...      ...     ...   \n",
              "605     228     1373     1.0   \n",
              "606     595     1278     1.0   \n",
              "607     407     1196     1.0   \n",
              "608     531     2640     1.0   \n",
              "609     459   177765     1.0   \n",
              "\n",
              "                                                 title  \\\n",
              "0                                       Cop Out (2010)   \n",
              "1                                   Bad Company (1995)   \n",
              "2                                 No Man's Land (2001)   \n",
              "3                                   Phone Booth (2002)   \n",
              "4                         Spanish Prisoner, The (1997)   \n",
              "..                                                 ...   \n",
              "605             Star Trek V: The Final Frontier (1989)   \n",
              "606                          Young Frankenstein (1974)   \n",
              "607  Star Wars: Episode V - The Empire Strikes Back...   \n",
              "608                                    Superman (1978)   \n",
              "609                                        Coco (2017)   \n",
              "\n",
              "                           genres  \n",
              "0             Action|Comedy|Crime  \n",
              "1              Action|Crime|Drama  \n",
              "2                       Drama|War  \n",
              "3                  Drama|Thriller  \n",
              "4    Crime|Drama|Mystery|Thriller  \n",
              "..                            ...  \n",
              "605                 Action|Sci-Fi  \n",
              "606                Comedy|Fantasy  \n",
              "607       Action|Adventure|Sci-Fi  \n",
              "608       Action|Adventure|Sci-Fi  \n",
              "609  Adventure|Animation|Children  \n",
              "\n",
              "[610 rows x 5 columns]"
            ]
          },
          "execution_count": 7,
          "metadata": {},
          "output_type": "execute_result"
        }
      ],
      "source": [
        "merged_dataset = pd.merge(test_dataframe, movies, how='inner', on='movieId')\n",
        "merged_dataset"
      ]
    },
    {
      "cell_type": "markdown",
      "metadata": {
        "id": "5YPZqgj4rshF"
      },
      "source": [
        "# Saving the test, and train csvs"
      ]
    },
    {
      "cell_type": "code",
      "execution_count": 8,
      "metadata": {
        "id": "c_q35XNxruxm"
      },
      "outputs": [],
      "source": [
        "# test csv\n",
        "merged_dataset.to_csv(\"evaluation.csv\", index = False)\n",
        "\n",
        "# train csv\n",
        "train_dataframe.to_csv(\"train.csv\", index = False)"
      ]
    },
    {
      "cell_type": "markdown",
      "metadata": {
        "id": "juknk6k7_3KZ"
      },
      "source": [
        "# Visualizations"
      ]
    },
    {
      "cell_type": "code",
      "execution_count": 9,
      "metadata": {
        "colab": {
          "base_uri": "https://localhost:8080/",
          "height": 581
        },
        "id": "nTxjf3CH_8j3",
        "outputId": "e8fdaf48-8e0b-487d-9760-869605b36fdd"
      },
      "outputs": [
        {
          "data": {
            "text/plain": [
              "Text(0, 0.5, 'Number of times a rating was given')"
            ]
          },
          "execution_count": 9,
          "metadata": {},
          "output_type": "execute_result"
        },
        {
          "data": {
            "image/png": "[encoded data removed]",
            "text/plain": [
              "<Figure size 1000x600 with 1 Axes>"
            ]
          },
          "metadata": {},
          "output_type": "display_data"
        }
      ],
      "source": [
        "import matplotlib.pyplot as plt\n",
        "\n",
        "total_dataframe['rating'].value_counts(sort=False).plot(kind='bar' ,figsize=(10,6), use_index = True, rot=0)\n",
        "plt.title('Bar plot of rating frequency')\n",
        "plt.xlabel('Rating')\n",
        "plt.ylabel('Number of times a rating was given')"
      ]
    },
    {
      "cell_type": "markdown",
      "metadata": {
        "id": "zAF0M4zLAGWq"
      },
      "source": [
        "## It can be seen that most of the users have rewarded movies they watched with a 4 star rating and followed by 3 star and 5 star."
      ]
    },
    {
      "cell_type": "markdown",
      "metadata": {
        "id": "8G-mNHTFAR57"
      },
      "source": [
        "## Pie chart of number of movies with ratings"
      ]
    },
    {
      "cell_type": "code",
      "execution_count": 10,
      "metadata": {
        "colab": {
          "base_uri": "https://localhost:8080/",
          "height": 676
        },
        "id": "4nlEi2lIAVT0",
        "outputId": "05f907a8-529c-4ceb-bfdc-c1ffcdca62bc"
      },
      "outputs": [
        {
          "name": "stdout",
          "output_type": "stream",
          "text": [
            "Split of movies count based on their overall average rating\n"
          ]
        },
        {
          "data": {
            "image/png": "[encoded data removed]",
            "text/plain": [
              "<Figure size 1000x800 with 1 Axes>"
            ]
          },
          "metadata": {},
          "output_type": "display_data"
        }
      ],
      "source": [
        "import matplotlib.pyplot as plt\n",
        "\n",
        "print('Split of movies count based on their overall average rating')\n",
        "# Pie chart, where the slices will be ordered and plotted counter-clockwise:\n",
        "labels = '5 star', '4 to 5 star', '3 to 4 star', '2 to 3 star', '1 to 2 star'\n",
        "sizes = [10, 163, 871, 492, 128]\n",
        "\n",
        "fig1, ax1 = plt.subplots(figsize=(10,8))\n",
        "ax1.pie(sizes, labels=labels, autopct='%1.1f%%',\n",
        "        shadow=True, startangle=90)\n",
        "ax1.axis('equal')\n",
        "plt.show()"
      ]
    },
    {
      "cell_type": "markdown",
      "metadata": {
        "id": "2tYDcN4oAknF"
      },
      "source": [
        "## Average ratings per movie"
      ]
    },
    {
      "cell_type": "markdown",
      "metadata": {
        "id": "n5CdlLB0tpTe"
      },
      "source": [
        "## For this we should merge movie titles with the total dataset first"
      ]
    },
    {
      "cell_type": "code",
      "execution_count": 11,
      "metadata": {
        "colab": {
          "base_uri": "https://localhost:8080/",
          "height": 424
        },
        "id": "_wkQENTQtuif",
        "outputId": "1ab90596-33e3-4748-ef01-941ff1de070d"
      },
      "outputs": [
        {
          "data": {
            "text/html": [
              "<div>\n",
              "<style scoped>\n",
              "    .dataframe tbody tr th:only-of-type {\n",
              "        vertical-align: middle;\n",
              "    }\n",
              "\n",
              "    .dataframe tbody tr th {\n",
              "        vertical-align: top;\n",
              "    }\n",
              "\n",
              "    .dataframe thead th {\n",
              "        text-align: right;\n",
              "    }\n",
              "</style>\n",
              "<table border=\"1\" class=\"dataframe\">\n",
              "  <thead>\n",
              "    <tr style=\"text-align: right;\">\n",
              "      <th></th>\n",
              "      <th>userId</th>\n",
              "      <th>movieId</th>\n",
              "      <th>rating</th>\n",
              "      <th>title</th>\n",
              "      <th>genres</th>\n",
              "    </tr>\n",
              "  </thead>\n",
              "  <tbody>\n",
              "    <tr>\n",
              "      <th>0</th>\n",
              "      <td>1</td>\n",
              "      <td>1</td>\n",
              "      <td>4.0</td>\n",
              "      <td>Toy Story (1995)</td>\n",
              "      <td>Adventure|Animation|Children|Comedy|Fantasy</td>\n",
              "    </tr>\n",
              "    <tr>\n",
              "      <th>1</th>\n",
              "      <td>1</td>\n",
              "      <td>3</td>\n",
              "      <td>4.0</td>\n",
              "      <td>Grumpier Old Men (1995)</td>\n",
              "      <td>Comedy|Romance</td>\n",
              "    </tr>\n",
              "    <tr>\n",
              "      <th>2</th>\n",
              "      <td>1</td>\n",
              "      <td>6</td>\n",
              "      <td>4.0</td>\n",
              "      <td>Heat (1995)</td>\n",
              "      <td>Action|Crime|Thriller</td>\n",
              "    </tr>\n",
              "    <tr>\n",
              "      <th>3</th>\n",
              "      <td>1</td>\n",
              "      <td>47</td>\n",
              "      <td>5.0</td>\n",
              "      <td>Seven (a.k.a. Se7en) (1995)</td>\n",
              "      <td>Mystery|Thriller</td>\n",
              "    </tr>\n",
              "    <tr>\n",
              "      <th>4</th>\n",
              "      <td>1</td>\n",
              "      <td>50</td>\n",
              "      <td>5.0</td>\n",
              "      <td>Usual Suspects, The (1995)</td>\n",
              "      <td>Crime|Mystery|Thriller</td>\n",
              "    </tr>\n",
              "    <tr>\n",
              "      <th>...</th>\n",
              "      <td>...</td>\n",
              "      <td>...</td>\n",
              "      <td>...</td>\n",
              "      <td>...</td>\n",
              "      <td>...</td>\n",
              "    </tr>\n",
              "    <tr>\n",
              "      <th>100831</th>\n",
              "      <td>610</td>\n",
              "      <td>166534</td>\n",
              "      <td>4.0</td>\n",
              "      <td>Split (2017)</td>\n",
              "      <td>Drama|Horror|Thriller</td>\n",
              "    </tr>\n",
              "    <tr>\n",
              "      <th>100832</th>\n",
              "      <td>610</td>\n",
              "      <td>168248</td>\n",
              "      <td>5.0</td>\n",
              "      <td>John Wick: Chapter Two (2017)</td>\n",
              "      <td>Action|Crime|Thriller</td>\n",
              "    </tr>\n",
              "    <tr>\n",
              "      <th>100833</th>\n",
              "      <td>610</td>\n",
              "      <td>168250</td>\n",
              "      <td>5.0</td>\n",
              "      <td>Get Out (2017)</td>\n",
              "      <td>Horror</td>\n",
              "    </tr>\n",
              "    <tr>\n",
              "      <th>100834</th>\n",
              "      <td>610</td>\n",
              "      <td>168252</td>\n",
              "      <td>5.0</td>\n",
              "      <td>Logan (2017)</td>\n",
              "      <td>Action|Sci-Fi</td>\n",
              "    </tr>\n",
              "    <tr>\n",
              "      <th>100835</th>\n",
              "      <td>610</td>\n",
              "      <td>170875</td>\n",
              "      <td>3.0</td>\n",
              "      <td>The Fate of the Furious (2017)</td>\n",
              "      <td>Action|Crime|Drama|Thriller</td>\n",
              "    </tr>\n",
              "  </tbody>\n",
              "</table>\n",
              "<p>100836 rows × 5 columns</p>\n",
              "</div>"
            ],
            "text/plain": [
              "        userId  movieId  rating                           title  \\\n",
              "0            1        1     4.0                Toy Story (1995)   \n",
              "1            1        3     4.0         Grumpier Old Men (1995)   \n",
              "2            1        6     4.0                     Heat (1995)   \n",
              "3            1       47     5.0     Seven (a.k.a. Se7en) (1995)   \n",
              "4            1       50     5.0      Usual Suspects, The (1995)   \n",
              "...        ...      ...     ...                             ...   \n",
              "100831     610   166534     4.0                    Split (2017)   \n",
              "100832     610   168248     5.0   John Wick: Chapter Two (2017)   \n",
              "100833     610   168250     5.0                  Get Out (2017)   \n",
              "100834     610   168252     5.0                    Logan (2017)   \n",
              "100835     610   170875     3.0  The Fate of the Furious (2017)   \n",
              "\n",
              "                                             genres  \n",
              "0       Adventure|Animation|Children|Comedy|Fantasy  \n",
              "1                                    Comedy|Romance  \n",
              "2                             Action|Crime|Thriller  \n",
              "3                                  Mystery|Thriller  \n",
              "4                            Crime|Mystery|Thriller  \n",
              "...                                             ...  \n",
              "100831                        Drama|Horror|Thriller  \n",
              "100832                        Action|Crime|Thriller  \n",
              "100833                                       Horror  \n",
              "100834                                Action|Sci-Fi  \n",
              "100835                  Action|Crime|Drama|Thriller  \n",
              "\n",
              "[100836 rows x 5 columns]"
            ]
          },
          "execution_count": 11,
          "metadata": {},
          "output_type": "execute_result"
        }
      ],
      "source": [
        "total_dataset = pd.merge(total_dataframe, movies, how='inner', on='movieId')\n",
        "total_dataset"
      ]
    },
    {
      "cell_type": "code",
      "execution_count": 12,
      "metadata": {
        "id": "cAdJFgn1t4U4"
      },
      "outputs": [],
      "source": [
        "total_dataset.to_csv(\"entire_dataset.csv\", index = False)"
      ]
    },
    {
      "cell_type": "code",
      "execution_count": 13,
      "metadata": {
        "colab": {
          "base_uri": "https://localhost:8080/",
          "height": 363
        },
        "id": "-kOneZDbAp3w",
        "outputId": "bdd2a07d-3063-4149-fc69-ff47d8c630dc"
      },
      "outputs": [
        {
          "data": {
            "text/html": [
              "<div>\n",
              "<style scoped>\n",
              "    .dataframe tbody tr th:only-of-type {\n",
              "        vertical-align: middle;\n",
              "    }\n",
              "\n",
              "    .dataframe tbody tr th {\n",
              "        vertical-align: top;\n",
              "    }\n",
              "\n",
              "    .dataframe thead th {\n",
              "        text-align: right;\n",
              "    }\n",
              "</style>\n",
              "<table border=\"1\" class=\"dataframe\">\n",
              "  <thead>\n",
              "    <tr style=\"text-align: right;\">\n",
              "      <th></th>\n",
              "      <th>movie title</th>\n",
              "      <th>avg rating</th>\n",
              "    </tr>\n",
              "  </thead>\n",
              "  <tbody>\n",
              "    <tr>\n",
              "      <th>0</th>\n",
              "      <td>Gena the Crocodile (1969)</td>\n",
              "      <td>5.0</td>\n",
              "    </tr>\n",
              "    <tr>\n",
              "      <th>1</th>\n",
              "      <td>True Stories (1986)</td>\n",
              "      <td>5.0</td>\n",
              "    </tr>\n",
              "    <tr>\n",
              "      <th>2</th>\n",
              "      <td>Cosmic Scrat-tastrophe (2015)</td>\n",
              "      <td>5.0</td>\n",
              "    </tr>\n",
              "    <tr>\n",
              "      <th>3</th>\n",
              "      <td>Love and Pigeons (1985)</td>\n",
              "      <td>5.0</td>\n",
              "    </tr>\n",
              "    <tr>\n",
              "      <th>4</th>\n",
              "      <td>Red Sorghum (Hong gao liang) (1987)</td>\n",
              "      <td>5.0</td>\n",
              "    </tr>\n",
              "    <tr>\n",
              "      <th>5</th>\n",
              "      <td>Thin Line Between Love and Hate, A (1996)</td>\n",
              "      <td>5.0</td>\n",
              "    </tr>\n",
              "    <tr>\n",
              "      <th>6</th>\n",
              "      <td>Lesson Faust (1994)</td>\n",
              "      <td>5.0</td>\n",
              "    </tr>\n",
              "    <tr>\n",
              "      <th>7</th>\n",
              "      <td>Eva (2011)</td>\n",
              "      <td>5.0</td>\n",
              "    </tr>\n",
              "    <tr>\n",
              "      <th>8</th>\n",
              "      <td>Who Killed Chea Vichea? (2010)</td>\n",
              "      <td>5.0</td>\n",
              "    </tr>\n",
              "    <tr>\n",
              "      <th>9</th>\n",
              "      <td>Siam Sunset (1999)</td>\n",
              "      <td>5.0</td>\n",
              "    </tr>\n",
              "  </tbody>\n",
              "</table>\n",
              "</div>"
            ],
            "text/plain": [
              "                                 movie title  avg rating\n",
              "0                  Gena the Crocodile (1969)         5.0\n",
              "1                        True Stories (1986)         5.0\n",
              "2              Cosmic Scrat-tastrophe (2015)         5.0\n",
              "3                    Love and Pigeons (1985)         5.0\n",
              "4        Red Sorghum (Hong gao liang) (1987)         5.0\n",
              "5  Thin Line Between Love and Hate, A (1996)         5.0\n",
              "6                        Lesson Faust (1994)         5.0\n",
              "7                                 Eva (2011)         5.0\n",
              "8             Who Killed Chea Vichea? (2010)         5.0\n",
              "9                         Siam Sunset (1999)         5.0"
            ]
          },
          "execution_count": 13,
          "metadata": {},
          "output_type": "execute_result"
        }
      ],
      "source": [
        "avg_highly_rated_movies = total_dataset.groupby(['title']).agg({\"rating\":\"mean\"})['rating'].sort_values(ascending=False)\n",
        "avg_highly_rated_movies = avg_highly_rated_movies.to_frame()\n",
        "\n",
        "avg_highly_rated_movies.reset_index(level=0, inplace=True)\n",
        "\n",
        "avg_highly_rated_movies.columns = ['movie title', 'avg rating']\n",
        "avg_highly_rated_movies.head(10)"
      ]
    },
    {
      "cell_type": "markdown",
      "metadata": {
        "id": "OQQW4c91uLDh"
      },
      "source": [
        "## Lets see how much people have rated lord of the ring movies"
      ]
    },
    {
      "cell_type": "code",
      "execution_count": 14,
      "metadata": {
        "colab": {
          "base_uri": "https://localhost:8080/"
        },
        "id": "5SvLeQjRumX_",
        "outputId": "75d5dfc4-c64e-45f8-cbdb-e53724fdb006"
      },
      "outputs": [
        {
          "name": "stdout",
          "output_type": "stream",
          "text": [
            "[('Lord of the Rings: The Return of the King, The (2003)', 4.118918918918919), ('Lord of the Rings: The Fellowship of the Ring, The (2001)', 4.106060606060606), ('Lord of the Rings: The Two Towers, The (2002)', 4.0212765957446805), ('Hobbit: An Unexpected Journey, The (2012)', 3.8125), ('Hobbit: The Desolation of Smaug, The (2013)', 3.58), ('The Hobbit: The Battle of the Five Armies (2014)', 3.4166666666666665), ('Lord of the Rings, The (1978)', 3.1333333333333333)]\n"
          ]
        }
      ],
      "source": [
        "mov_ls = list(avg_highly_rated_movies[\"movie title\"])\n",
        "l1 = [(k, avg_highly_rated_movies.loc[mov_ls.index(k), \"avg rating\"]) for k in mov_ls if 'hobbit' in k.lower() or 'lord of the rings' in k.lower()]\n",
        "\n",
        "# l1 now contains a list of tuples where each tuple has the movie title and its corresponding rating\n",
        "print(l1)"
      ]
    },
    {
      "cell_type": "markdown",
      "metadata": {
        "id": "H_h7tktXBu7N"
      },
      "source": [
        "# Size of the dataset"
      ]
    },
    {
      "cell_type": "code",
      "execution_count": 15,
      "metadata": {
        "colab": {
          "base_uri": "https://localhost:8080/",
          "height": 300
        },
        "id": "TpiMoF9bCZlp",
        "outputId": "82df2959-a16e-4ef0-b31b-f9a52c0f14ce"
      },
      "outputs": [
        {
          "data": {
            "text/html": [
              "<div>\n",
              "<style scoped>\n",
              "    .dataframe tbody tr th:only-of-type {\n",
              "        vertical-align: middle;\n",
              "    }\n",
              "\n",
              "    .dataframe tbody tr th {\n",
              "        vertical-align: top;\n",
              "    }\n",
              "\n",
              "    .dataframe thead th {\n",
              "        text-align: right;\n",
              "    }\n",
              "</style>\n",
              "<table border=\"1\" class=\"dataframe\">\n",
              "  <thead>\n",
              "    <tr style=\"text-align: right;\">\n",
              "      <th></th>\n",
              "      <th>userId</th>\n",
              "      <th>movieId</th>\n",
              "      <th>rating</th>\n",
              "    </tr>\n",
              "  </thead>\n",
              "  <tbody>\n",
              "    <tr>\n",
              "      <th>count</th>\n",
              "      <td>100836.000000</td>\n",
              "      <td>100836.000000</td>\n",
              "      <td>100836.000000</td>\n",
              "    </tr>\n",
              "    <tr>\n",
              "      <th>mean</th>\n",
              "      <td>326.127564</td>\n",
              "      <td>19435.295718</td>\n",
              "      <td>3.501557</td>\n",
              "    </tr>\n",
              "    <tr>\n",
              "      <th>std</th>\n",
              "      <td>182.618491</td>\n",
              "      <td>35530.987199</td>\n",
              "      <td>1.042529</td>\n",
              "    </tr>\n",
              "    <tr>\n",
              "      <th>min</th>\n",
              "      <td>1.000000</td>\n",
              "      <td>1.000000</td>\n",
              "      <td>0.500000</td>\n",
              "    </tr>\n",
              "    <tr>\n",
              "      <th>25%</th>\n",
              "      <td>177.000000</td>\n",
              "      <td>1199.000000</td>\n",
              "      <td>3.000000</td>\n",
              "    </tr>\n",
              "    <tr>\n",
              "      <th>50%</th>\n",
              "      <td>325.000000</td>\n",
              "      <td>2991.000000</td>\n",
              "      <td>3.500000</td>\n",
              "    </tr>\n",
              "    <tr>\n",
              "      <th>75%</th>\n",
              "      <td>477.000000</td>\n",
              "      <td>8122.000000</td>\n",
              "      <td>4.000000</td>\n",
              "    </tr>\n",
              "    <tr>\n",
              "      <th>max</th>\n",
              "      <td>610.000000</td>\n",
              "      <td>193609.000000</td>\n",
              "      <td>5.000000</td>\n",
              "    </tr>\n",
              "  </tbody>\n",
              "</table>\n",
              "</div>"
            ],
            "text/plain": [
              "              userId        movieId         rating\n",
              "count  100836.000000  100836.000000  100836.000000\n",
              "mean      326.127564   19435.295718       3.501557\n",
              "std       182.618491   35530.987199       1.042529\n",
              "min         1.000000       1.000000       0.500000\n",
              "25%       177.000000    1199.000000       3.000000\n",
              "50%       325.000000    2991.000000       3.500000\n",
              "75%       477.000000    8122.000000       4.000000\n",
              "max       610.000000  193609.000000       5.000000"
            ]
          },
          "execution_count": 15,
          "metadata": {},
          "output_type": "execute_result"
        }
      ],
      "source": [
        "total_dataset.describe()"
      ]
    },
    {
      "cell_type": "markdown",
      "metadata": {
        "id": "aG3HMYi0DGmT"
      },
      "source": [
        "## Looking at the above the data seems fine 100k"
      ]
    }
  ],
  "metadata": {
    "accelerator": "GPU",
    "colab": {
      "gpuType": "T4",
      "provenance": []
    },
    "kernelspec": {
      "display_name": "Python 3",
      "name": "python3"
    },
    "language_info": {
      "codemirror_mode": {
        "name": "ipython",
        "version": 3
      },
      "file_extension": ".py",
      "mimetype": "text/x-python",
      "name": "python",
      "nbconvert_exporter": "python",
      "pygments_lexer": "ipython3",
      "version": "3.10.14"
    }
  },
  "nbformat": 4,
  "nbformat_minor": 0
}
